{
 "cells": [
  {
   "cell_type": "markdown",
   "id": "0c3e7251",
   "metadata": {},
   "source": [
    "## Determinantal Point Process"
   ]
  },
  {
   "cell_type": "code",
   "execution_count": 1,
   "id": "c96a1127",
   "metadata": {},
   "outputs": [
    {
     "name": "stdout",
     "output_type": "stream",
     "text": [
      "Packages loaded.\n"
     ]
    }
   ],
   "source": [
    "import numpy as np\n",
    "import matplotlib.pyplot as plt\n",
    "from scipy.spatial.distance import cdist\n",
    "from scipy.stats import multivariate_normal\n",
    "from scipy.interpolate import fitpack,bisplrep,bisplev\n",
    "%matplotlib inline\n",
    "%config InlineBackend.figure_format = 'retina'\n",
    "print (\"Packages loaded.\")"
   ]
  },
  {
   "cell_type": "markdown",
   "id": "9b374da2",
   "metadata": {},
   "source": [
    "### Util"
   ]
  },
  {
   "cell_type": "code",
   "execution_count": 2,
   "id": "df553a17",
   "metadata": {},
   "outputs": [
    {
     "name": "stdout",
     "output_type": "stream",
     "text": [
      "Done.\n"
     ]
    }
   ],
   "source": [
    "def kernel_se(X1,X2,hyp={'g':1,'l':1}):\n",
    "    \"\"\"\n",
    "        Squared exponential (SE) kernel function\n",
    "    \"\"\"\n",
    "    K = hyp['g']*np.exp(-cdist(X1,X2,'sqeuclidean')/(2*hyp['l']*hyp['l']))\n",
    "    return K\n",
    "print (\"Done.\")"
   ]
  },
  {
   "cell_type": "markdown",
   "id": "58f28ddc",
   "metadata": {},
   "source": [
    "### Original k-DPP Implementation"
   ]
  },
  {
   "cell_type": "code",
   "execution_count": null,
   "id": "9cf64b4b",
   "metadata": {
    "scrolled": false
   },
   "outputs": [],
   "source": [
    "# Total set\n",
    "xs_total = np.random.rand(1000,2)\n",
    "\n",
    "# k-DPP\n",
    "n_select    = 30\n",
    "n_total     = xs_total.shape[0]\n",
    "idxs_remain = np.arange(0,n_total,1,dtype=np.int32)\n",
    "idxs_select = []\n",
    "for i_idx in range(n_select):\n",
    "    if i_idx == 0:\n",
    "        idx_select = np.random.permutation(n_total)[0]\n",
    "    else:\n",
    "        xs_select = xs_total[idxs_select,:]\n",
    "        n_remain  = len(idxs_remain)\n",
    "        dets      = np.zeros(shape=n_remain)\n",
    "        for r_idx in range(n_remain): # for the remained indices\n",
    "            idx_remain = idxs_remain[r_idx]\n",
    "            x_remain   = xs_total[idx_remain,:].reshape(1,-1)\n",
    "            # Stack\n",
    "            xs_check   = np.concatenate((xs_select,x_remain),axis=0)\n",
    "            # Compute the determinant of the kernel matrix\n",
    "            K_check    = kernel_se(xs_check,xs_check,hyp={'g':1,'l':0.1})\n",
    "            det_check  = np.linalg.det(K_check)\n",
    "            # Append the determinant\n",
    "            dets[r_idx] = det_check\n",
    "        # Get the index with the highest determinant\n",
    "        idx_select = idxs_remain[np.where(dets == np.amax(dets))[0][0]]\n",
    "    # Remove currently selected index from 'idxs_remain'\n",
    "    idxs_remain = idxs_remain[idxs_remain != idx_select]\n",
    "    # Append currently selected index to 'idxs_select'\n",
    "    idxs_select.append(idx_select)\n",
    "\n",
    "# Select the subset from 'xs_total'\n",
    "idxs_select = np.array(idxs_select)\n",
    "xs_kdpp     = xs_total[idxs_select]\n",
    "xs_rand     = xs_total[np.random.permutation(n_total)[:n_select]]\n",
    "\n",
    "# Plot\n",
    "plt.figure(figsize=(10,10))\n",
    "plt.plot(xs_total[:,0],xs_total[:,1],'.',color='k')\n",
    "plt.plot(xs_rand[:,0],xs_rand[:,1],\n",
    "         'o',ms=12,mfc='None',mec='b',markeredgewidth=2,\n",
    "         label='Random subset')\n",
    "plt.plot(xs_kdpp[:,0],xs_kdpp[:,1],\n",
    "         'o',ms=12,mfc='None',mec='r',markeredgewidth=2,\n",
    "         label='k-DPP subset')\n",
    "plt.title(\"Original k-DPP\",fontsize=18)\n",
    "plt.legend(fontsize=15,loc='upper left')\n",
    "plt.show()"
   ]
  },
  {
   "cell_type": "code",
   "execution_count": null,
   "id": "6351130c",
   "metadata": {},
   "outputs": [],
   "source": []
  },
  {
   "cell_type": "code",
   "execution_count": null,
   "id": "6e8a9a4a",
   "metadata": {},
   "outputs": [],
   "source": [
    "    "
   ]
  }
 ],
 "metadata": {
  "kernelspec": {
   "display_name": "Python 3 (ipykernel)",
   "language": "python",
   "name": "python3"
  },
  "language_info": {
   "codemirror_mode": {
    "name": "ipython",
    "version": 3
   },
   "file_extension": ".py",
   "mimetype": "text/x-python",
   "name": "python",
   "nbconvert_exporter": "python",
   "pygments_lexer": "ipython3",
   "version": "3.8.13"
  }
 },
 "nbformat": 4,
 "nbformat_minor": 5
}
