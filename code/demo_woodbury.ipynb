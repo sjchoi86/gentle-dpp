{
 "cells": [
  {
   "cell_type": "markdown",
   "id": "0484ba3b",
   "metadata": {},
   "source": [
    "### Matrix inversion lemma"
   ]
  },
  {
   "cell_type": "code",
   "execution_count": 1,
   "id": "6bb2bf19",
   "metadata": {},
   "outputs": [
    {
     "name": "stdout",
     "output_type": "stream",
     "text": [
      "Packages loaded.\n"
     ]
    }
   ],
   "source": [
    "import numpy as np\n",
    "import matplotlib.pyplot as plt\n",
    "from scipy.spatial import distance\n",
    "%matplotlib inline\n",
    "%config InlineBackend.figure_format = 'retina'\n",
    "print (\"Packages loaded.\")"
   ]
  },
  {
   "cell_type": "markdown",
   "id": "52cd9182",
   "metadata": {},
   "source": [
    "### Special case of matrix inversion lemma\n",
    "\n",
    "Let a $(m+1) \\times (m+1)$ matrix $M$ be partitioned into a block form:\n",
    "$$\n",
    "M = \n",
    "\\begin{bmatrix} \n",
    "A & \\mathbf{b} \\\\ \n",
    "\\mathbf{b}^T & c\n",
    "\\end{bmatrix}\n",
    "$$\n",
    "Then the inverse of $M$ is\n",
    "$$\n",
    "M^{-1} = \n",
    "\\begin{bmatrix}\n",
    "(A - \\frac{1}{c}\\mathbf{b}\\mathbf{b}^T)^{-1}\n",
    "&\n",
    "-\\frac{1}{k} A^{-1} \\mathbf{b} \n",
    "\\\\\n",
    "-\\frac{1}{k}\\mathbf{b}^T A^{-1}\n",
    "&\n",
    "\\frac{1}{k}\n",
    "\\end{bmatrix}\n",
    "=\n",
    "\\begin{bmatrix}\n",
    "A^{-1} + \\frac{1}{k}A^{-1} \\mathbf{b} \\mathbf{b}^T A^{-1}\n",
    "&\n",
    "-\\frac{1}{k} A^{-1} \\mathbf{b} \n",
    "\\\\\n",
    "-\\frac{1}{k}\\mathbf{b}^T A^{-1}\n",
    "&\n",
    "\\frac{1}{k}\n",
    "\\end{bmatrix}\n",
    "$$\n",
    "where $k = c - \\mathbf{b}^T A^{-1} \\mathbf{b}$."
   ]
  },
  {
   "cell_type": "code",
   "execution_count": 12,
   "id": "443ea3ac",
   "metadata": {},
   "outputs": [],
   "source": [
    "A = np.random.randn(9,9)\n",
    "b = np.random.randn(9,1)\n",
    "c = np.random.randn(1,1)\n",
    "M = np.concatenate((A,b),axis=1)\n",
    "M = np.concatenate((M,np.concatenate((b.T,c),axis=1)),axis=0)\n",
    "M_inv = np.linalg.inv(M)\n",
    "def inv_inc(A,b,c):\n",
    "    \"\"\"\n",
    "        Incremental inverse using matrix inverse lemma\n",
    "    \"\"\"\n"
   ]
  },
  {
   "cell_type": "code",
   "execution_count": null,
   "id": "91dc1407",
   "metadata": {},
   "outputs": [],
   "source": []
  },
  {
   "cell_type": "code",
   "execution_count": null,
   "id": "a964c54e",
   "metadata": {},
   "outputs": [],
   "source": []
  },
  {
   "cell_type": "code",
   "execution_count": 2,
   "id": "d7e3a4b4",
   "metadata": {},
   "outputs": [],
   "source": [
    "x     = np.random.randn(100,2)\n",
    "D     = distance.cdist(x,x,'sqeuclidean') \n",
    "alpha = 1.0\n",
    "M     = np.exp(-alpha*D)"
   ]
  },
  {
   "cell_type": "code",
   "execution_count": null,
   "id": "00ad53bf",
   "metadata": {},
   "outputs": [],
   "source": []
  },
  {
   "cell_type": "code",
   "execution_count": null,
   "id": "7bde4056",
   "metadata": {},
   "outputs": [],
   "source": []
  }
 ],
 "metadata": {
  "kernelspec": {
   "display_name": "Python 3 (ipykernel)",
   "language": "python",
   "name": "python3"
  },
  "language_info": {
   "codemirror_mode": {
    "name": "ipython",
    "version": 3
   },
   "file_extension": ".py",
   "mimetype": "text/x-python",
   "name": "python",
   "nbconvert_exporter": "python",
   "pygments_lexer": "ipython3",
   "version": "3.8.13"
  }
 },
 "nbformat": 4,
 "nbformat_minor": 5
}
