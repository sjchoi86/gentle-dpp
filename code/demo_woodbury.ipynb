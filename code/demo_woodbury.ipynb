{
 "cells": [
  {
   "cell_type": "markdown",
   "id": "0484ba3b",
   "metadata": {},
   "source": [
    "### Matrix inversion lemma"
   ]
  },
  {
   "cell_type": "code",
   "execution_count": 1,
   "id": "6bb2bf19",
   "metadata": {},
   "outputs": [
    {
     "name": "stdout",
     "output_type": "stream",
     "text": [
      "Packages loaded.\n"
     ]
    }
   ],
   "source": [
    "import numpy as np\n",
    "import matplotlib.pyplot as plt\n",
    "from scipy.spatial import distance\n",
    "%matplotlib inline\n",
    "%config InlineBackend.figure_format = 'retina'\n",
    "print (\"Packages loaded.\")"
   ]
  },
  {
   "cell_type": "markdown",
   "id": "52cd9182",
   "metadata": {},
   "source": [
    "### Special case of matrix inversion lemma\n",
    "\n",
    "Let a $(m+1) \\times (m+1)$ matrix $M$ be partitioned into a block form:\n",
    "$$\n",
    "M = \n",
    "\\begin{bmatrix} \n",
    "A & \\mathbf{b} \\\\ \n",
    "\\mathbf{b}^T & c\n",
    "\\end{bmatrix}\n",
    "$$\n",
    "Then the inverse of $M$ is\n",
    "$$\n",
    "M^{-1} = \n",
    "\\begin{bmatrix}\n",
    "(A - \\frac{1}{c}\\mathbf{b}\\mathbf{b}^T)^{-1}\n",
    "&\n",
    "-\\frac{1}{k} A^{-1} \\mathbf{b} \n",
    "\\\\\n",
    "-\\frac{1}{k}\\mathbf{b}^T A^{-1}\n",
    "&\n",
    "\\frac{1}{k}\n",
    "\\end{bmatrix}\n",
    "=\n",
    "\\begin{bmatrix}\n",
    "A^{-1} + \\frac{1}{k}A^{-1} \\mathbf{b} \\mathbf{b}^T A^{-1}\n",
    "&\n",
    "-\\frac{1}{k} A^{-1} \\mathbf{b} \n",
    "\\\\\n",
    "-\\frac{1}{k}\\mathbf{b}^T A^{-1}\n",
    "&\n",
    "\\frac{1}{k}\n",
    "\\end{bmatrix}\n",
    "$$\n",
    "where $k = c - \\mathbf{b}^T A^{-1} \\mathbf{b}$."
   ]
  },
  {
   "cell_type": "code",
   "execution_count": 2,
   "id": "2f88a800",
   "metadata": {},
   "outputs": [
    {
     "name": "stdout",
     "output_type": "stream",
     "text": [
      "Done.\n"
     ]
    }
   ],
   "source": [
    "def block_mtx(M11,M12,M21,M22):\n",
    "    M_upper = np.concatenate((M11,M12),axis=1)\n",
    "    M_lower = np.concatenate((M21,M22),axis=1)\n",
    "    M = np.concatenate((M_upper,M_lower),axis=0)\n",
    "    return M\n",
    "\n",
    "def inv_inc(inv_A,b,c):\n",
    "    \"\"\"\n",
    "        Incremental inverse using matrix inverse lemma\n",
    "    \"\"\"\n",
    "    k   = c - b.T @ inv_A @ b\n",
    "    M11 = inv_A + 1/k * inv_A @ b @ b.T @ inv_A\n",
    "    M12 = -1/k * inv_A @ b\n",
    "    M21 = -1/k * b.T @ inv_A\n",
    "    M22 = 1/k\n",
    "    M   = block_mtx(M11=M11,M12=M12,M21=M21,M22=M22)\n",
    "    return M\n",
    "print (\"Done.\")"
   ]
  },
  {
   "cell_type": "markdown",
   "id": "77799ded",
   "metadata": {},
   "source": [
    "### Incremental matrix inverse"
   ]
  },
  {
   "cell_type": "code",
   "execution_count": 3,
   "id": "443ea3ac",
   "metadata": {},
   "outputs": [
    {
     "name": "stdout",
     "output_type": "stream",
     "text": [
      "Maximum error of the incremental inverse is [2.3737e-13]\n"
     ]
    }
   ],
   "source": [
    "# Random matrices\n",
    "N = 100\n",
    "A = np.random.randn(N,N)\n",
    "b = np.random.randn(N,1)\n",
    "c = np.random.randn(1,1)\n",
    "M = block_mtx(M11=A,M12=b,M21=b.T,M22=c)\n",
    "inv_M = np.linalg.inv(M)\n",
    "\n",
    "# Incremental inverse\n",
    "inv_A  = np.linalg.inv(A)\n",
    "inv_M2 = inv_inc(inv_A,b,c)\n",
    "\n",
    "# Print\n",
    "max_err = np.max(np.abs(inv_M2-inv_M))\n",
    "print (\"Maximum error of the incremental inverse is [%.4e]\"%(max_err))"
   ]
  },
  {
   "cell_type": "markdown",
   "id": "415b929e",
   "metadata": {},
   "source": [
    "### Incremental Determinant computation\n",
    "Suppose $M \\in \\mathbb{R}^{(N+1) \\times (N+1)}$, $A \\in \\mathbb{R}^{N \\times N}$,\n",
    "$\\mathbf{b} \\in \\mathbb{R}^N$, and $c \\in \\mathbb{R}$. Then,\n",
    "$$\n",
    "\\det M\n",
    "=\n",
    "\\det \\left(\n",
    "\\begin{bmatrix}\n",
    "A & \\mathbf{b} \\\\\n",
    "\\mathbf{b}^T & c\n",
    "\\end{bmatrix}\n",
    "\\right)\n",
    "= \\det(A) (c - \\mathbf{b}^T A^{-1} \\mathbf{b})\n",
    "$$"
   ]
  },
  {
   "cell_type": "code",
   "execution_count": 4,
   "id": "35f73b1d",
   "metadata": {},
   "outputs": [
    {
     "name": "stdout",
     "output_type": "stream",
     "text": [
      "Done.\n"
     ]
    }
   ],
   "source": [
    "def det_inc(det_A,inv_A,b,c):\n",
    "    \"\"\"\n",
    "        Incremental determinant computation\n",
    "    \"\"\"\n",
    "    out = det_A * (c - b.T @ inv_A @ b)\n",
    "    return out\n",
    "print (\"Done.\")"
   ]
  },
  {
   "cell_type": "code",
   "execution_count": 5,
   "id": "f7739368",
   "metadata": {},
   "outputs": [
    {
     "name": "stdout",
     "output_type": "stream",
     "text": [
      "Maximum error of the incremental determinant is [1.1369e-13]\n"
     ]
    }
   ],
   "source": [
    "# Random matrices\n",
    "N = 10\n",
    "A = np.random.randn(N,N)\n",
    "b = np.random.randn(N,1)\n",
    "c = np.random.randn(1,1)\n",
    "W = block_mtx(M11=A,M12=b,M21=b.T,M22=c)\n",
    "det_W = np.linalg.det(W)\n",
    "\n",
    "# Incremental determinant\n",
    "inv_A  = np.linalg.inv(A)\n",
    "det_A  = np.linalg.det(A)\n",
    "det_W2 = det_inc(det_A,inv_A,b,c)\n",
    "\n",
    "# Print\n",
    "max_err = np.max(np.abs(det_W-det_W2))\n",
    "print (\"Maximum error of the incremental determinant is [%.4e]\"%(max_err))"
   ]
  },
  {
   "cell_type": "code",
   "execution_count": null,
   "id": "07e320b7",
   "metadata": {},
   "outputs": [],
   "source": []
  }
 ],
 "metadata": {
  "kernelspec": {
   "display_name": "Python 3 (ipykernel)",
   "language": "python",
   "name": "python3"
  },
  "language_info": {
   "codemirror_mode": {
    "name": "ipython",
    "version": 3
   },
   "file_extension": ".py",
   "mimetype": "text/x-python",
   "name": "python",
   "nbconvert_exporter": "python",
   "pygments_lexer": "ipython3",
   "version": "3.8.13"
  }
 },
 "nbformat": 4,
 "nbformat_minor": 5
}
