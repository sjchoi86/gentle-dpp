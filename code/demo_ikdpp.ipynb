{
 "cells": [
  {
   "cell_type": "markdown",
   "id": "5e954737",
   "metadata": {},
   "source": [
    "### Incremental DPP using the Matrix Inversion Lemma"
   ]
  },
  {
   "cell_type": "code",
   "execution_count": 1,
   "id": "3000134d",
   "metadata": {},
   "outputs": [
    {
     "name": "stdout",
     "output_type": "stream",
     "text": [
      "Packages loaded.\n"
     ]
    }
   ],
   "source": [
    "import numpy as np\n",
    "import matplotlib.pyplot as plt\n",
    "from datetime import datetime\n",
    "from scipy.spatial.distance import cdist\n",
    "from scipy.stats import multivariate_normal\n",
    "from scipy.interpolate import fitpack,bisplrep,bisplev\n",
    "%matplotlib inline\n",
    "%config InlineBackend.figure_format = 'retina'\n",
    "print (\"Packages loaded.\")"
   ]
  },
  {
   "cell_type": "markdown",
   "id": "6907d13c",
   "metadata": {},
   "source": [
    "### Util"
   ]
  },
  {
   "cell_type": "markdown",
   "id": "3afbd0d9",
   "metadata": {},
   "source": [
    "### Incremental Determinant computation\n",
    "Suppose $M \\in \\mathbb{R}^{(N+1) \\times (N+1)}$, $A \\in \\mathbb{R}^{N \\times N}$,\n",
    "$\\mathbf{b} \\in \\mathbb{R}^N$, and $c \\in \\mathbb{R}$. \n",
    "\n",
    "$$\n",
    "\\det M\n",
    "=\n",
    "\\det \\left(\n",
    "\\begin{bmatrix}\n",
    "A & \\mathbf{b} \\\\\n",
    "\\mathbf{b}^T & c\n",
    "\\end{bmatrix}\n",
    "\\right)\n",
    "= \\det(A) (c - \\mathbf{b}^T A^{-1} \\mathbf{b})\n",
    "$$"
   ]
  },
  {
   "cell_type": "code",
   "execution_count": null,
   "id": "d4eabb57",
   "metadata": {},
   "outputs": [],
   "source": [
    "def kernel_se(X1,X2,hyp={'g':1.0,'l':1.0}):\n",
    "    \"\"\"\n",
    "        Squared exponential (SE) kernel function\n",
    "    \"\"\"\n",
    "    K = hyp['g']*np.exp(-cdist(X1,X2,'sqeuclidean')/(2*hyp['l']*hyp['l']))\n",
    "    return K\n",
    "\n",
    "def block_mtx(M11,M12,M21,M22):\n",
    "    M_upper = np.concatenate((M11,M12),axis=1)\n",
    "    M_lower = np.concatenate((M21,M22),axis=1)\n",
    "    M = np.concatenate((M_upper,M_lower),axis=0)\n",
    "    return M\n",
    "\n",
    "def inv_inc(inv_A,b,c):\n",
    "    \"\"\"\n",
    "        Incremental inverse using matrix inverse lemma\n",
    "    \"\"\"\n",
    "    k   = c - b.T @ inv_A @ b\n",
    "    M11 = inv_A + 1/k * inv_A @ b @ b.T @ inv_A\n",
    "    M12 = -1/k * inv_A @ b\n",
    "    M21 = -1/k * b.T @ inv_A\n",
    "    M22 = 1/k\n",
    "    M   = block_mtx(M11=M11,M12=M12,M21=M21,M22=M22)\n",
    "    return M\n",
    "\n",
    "def det_inc(det_A,inv_A,b,c):\n",
    "    \"\"\"\n",
    "        Incremental determinant computation\n",
    "    \"\"\"\n",
    "    out = det_A * (c - b.T @ inv_A @ b)\n",
    "    return out\n",
    "print (\"Done.\")"
   ]
  },
  {
   "cell_type": "markdown",
   "id": "be9ea155",
   "metadata": {},
   "source": [
    "### Time check of the original and incremental k-DPP"
   ]
  },
  {
   "cell_type": "code",
   "execution_count": null,
   "id": "6c7b4551",
   "metadata": {},
   "outputs": [],
   "source": [
    "# Prepare dataset\n",
    "np.random.seed(seed=0)\n",
    "n_total     = 4000\n",
    "n_select    = 100\n",
    "xs_total    = np.random.rand(n_total,2)\n",
    "hyp         = {'g':1.0,'l':0.1}\n",
    "print (\"Done.\")"
   ]
  },
  {
   "cell_type": "markdown",
   "id": "db5bc191",
   "metadata": {},
   "source": [
    "### 1. Original k-DPP (k-dpp)"
   ]
  },
  {
   "cell_type": "code",
   "execution_count": null,
   "id": "a35e6fd8",
   "metadata": {},
   "outputs": [],
   "source": [
    "np.random.seed(seed=0)\n",
    "n_total     = xs_total.shape[0]\n",
    "idxs_remain = np.arange(0,n_total,1,dtype=np.int32)\n",
    "idxs_select = []\n",
    "tic = datetime.now() # tic\n",
    "tocs_kdpp = []\n",
    "for i_idx in range(n_select+1): # for all samples\n",
    "    n_remain  = len(idxs_remain)\n",
    "    if i_idx == 0:\n",
    "        idx_select = np.random.permutation(n_total)[0] # first sample random\n",
    "    else:\n",
    "        xs_select = xs_total[idxs_select,:]\n",
    "        dets      = np.zeros(shape=n_remain)\n",
    "        for r_idx in range(n_remain): # for the remained indices\n",
    "            idx_check  = idxs_remain[r_idx]\n",
    "            idxs_check = idxs_select + [idx_check]\n",
    "            xs_check   = xs_total[idxs_check,:]\n",
    "            # Compute the determinant of the kernel matrix \n",
    "            K_check    = kernel_se(xs_check,xs_check,hyp=hyp)\n",
    "            det_check  = np.linalg.det(K_check)\n",
    "            # Append the determinant\n",
    "            dets[r_idx] = det_check\n",
    "        # Get the index with the highest determinant\n",
    "        idx_select = idxs_remain[np.where(dets == np.amax(dets))[0][0]]\n",
    "    # Remove currently selected index from 'idxs_remain'\n",
    "    idxs_remain = idxs_remain[idxs_remain != idx_select]\n",
    "    # Append currently selected index to 'idxs_select'\n",
    "    idxs_select.append(idx_select)\n",
    "    # Check time\n",
    "    toc = (datetime.now()-tic).total_seconds() # toc\n",
    "    tocs_kdpp.append(toc)\n",
    "    if (i_idx%(n_select//5)) == 0:\n",
    "        n_selected = len(idxs_select)\n",
    "        n_remain = len(idxs_remain)\n",
    "        print (\"   k-DPP [%d/%d] n_selected:[%d] n_remain:[%d] [%.3f]sec\"%\n",
    "               (i_idx,n_select,n_selected,n_remain,toc))\n",
    "# Select the subset from 'xs_total' with removing the first sample\n",
    "idxs_select = idxs_select[1:] # excluding the first one\n",
    "idxs_select = np.array(idxs_select)\n",
    "xs_kdpp     = xs_total[idxs_select]\n",
    "print (\"Done.\")"
   ]
  },
  {
   "cell_type": "markdown",
   "id": "d66fa249",
   "metadata": {},
   "source": [
    "### 2. Incremental k-DPP (ik-dpp)"
   ]
  },
  {
   "cell_type": "code",
   "execution_count": null,
   "id": "e7006704",
   "metadata": {},
   "outputs": [],
   "source": [
    "np.random.seed(seed=0)\n",
    "n_total       = xs_total.shape[0]\n",
    "idxs_remain   = np.arange(0,n_total,1,dtype=np.int32)\n",
    "idxs_selected = []\n",
    "tic           = datetime.now() # tic\n",
    "tocs_ikdpp     = []\n",
    "for i_idx in range(n_select+1): # for all samples\n",
    "    n_remain = len(idxs_remain)\n",
    "    if i_idx == 0: # for the first sample\n",
    "        idx_selected = np.random.permutation(n_total)[0] # first sample random\n",
    "        q            = 1.0\n",
    "        det_K_prev   = q\n",
    "        K_inv_prev   = 1/q*np.ones(shape=(1,1))\n",
    "    else:\n",
    "        xs_selected  = xs_total[idxs_selected,:] # currently selected inputs\n",
    "        # Buffers\n",
    "        dets_remain  = np.zeros(shape=n_remain)\n",
    "        det_K_prev_list,K_inv_prev_list = [],[]\n",
    "        for r_idx in range(n_remain): # for all remaining indices\n",
    "            # Compute the determinant of the appended kernel matrix \n",
    "            k_vec     = kernel_se(\n",
    "                X1  = xs_selected,\n",
    "                X2  = xs_total[idxs_remain[r_idx],:].reshape(1,-1),\n",
    "                hyp = hyp)\n",
    "            q         = 1.0\n",
    "            det_check = det_inc(\n",
    "                det_A = det_K_prev,\n",
    "                inv_A = K_inv_prev,\n",
    "                b     = k_vec,\n",
    "                c     = q)\n",
    "            # Append the determinant\n",
    "            dets_remain[r_idx] = det_check\n",
    "        # Get the index with the highest determinant\n",
    "        idx_temp     = np.where(dets_remain == np.amax(dets_remain))[0][0]\n",
    "        idx_selected = idxs_remain[idx_temp]\n",
    "        # Compute 'det_K_prev' and 'K_inv_prev'\n",
    "        det_K_prev = dets_remain[idx_temp]\n",
    "        k_vec      = kernel_se(\n",
    "            xs_selected,\n",
    "            xs_total[idx_selected,:].reshape(1,-1),\n",
    "            hyp=hyp)\n",
    "        q          = 1\n",
    "        K_inv_prev = inv_inc(\n",
    "            inv_A = K_inv_prev,\n",
    "            b     = k_vec,\n",
    "            c     = q)\n",
    "    # Remove currently selected index from 'idxs_remain'\n",
    "    idxs_remain = idxs_remain[idxs_remain != idx_selected]\n",
    "    # Append currently selected index to 'idxs_select'\n",
    "    idxs_selected.append(idx_selected)\n",
    "    # Check time\n",
    "    toc = (datetime.now()-tic).total_seconds() # toc\n",
    "    tocs_ikdpp.append(toc)\n",
    "    if (i_idx%(n_select//5)) == 0:\n",
    "        n_selected = len(idxs_selected)\n",
    "        print (\"  ik-DPP [%d/%d] n_selected:[%d] n_remain:[%d] [%.3f]sec\"%\n",
    "               (i_idx,n_select,n_selected,n_remain,toc))\n",
    "# Select the subset from 'xs_total' with removing the first sample\n",
    "idxs_selected = idxs_selected[1:] # excluding the first one\n",
    "idxs_selected = np.array(idxs_selected)\n",
    "xs_ikdpp       = xs_total[idxs_selected]\n",
    "# Random samples\n",
    "idxs_random   = np.random.permutation(n_total)[:n_select]\n",
    "xs_random     = xs_total[idxs_random]\n",
    "print (\"Done.\")"
   ]
  },
  {
   "cell_type": "markdown",
   "id": "686dfeac",
   "metadata": {},
   "source": [
    "### 3. Truncated Incremental k-DPP (tik-DPP)"
   ]
  },
  {
   "cell_type": "code",
   "execution_count": null,
   "id": "c14a9763",
   "metadata": {},
   "outputs": [],
   "source": [
    "# Truncation parameter\n",
    "tik_upperbound = 10\n",
    "# tik-DPP\n",
    "np.random.seed(seed=0)\n",
    "n_total       = xs_total.shape[0]\n",
    "idxs_remain   = np.arange(0,n_total,1,dtype=np.int32)\n",
    "idxs_selected = []\n",
    "tic           = datetime.now() # tic\n",
    "tocs_tikdpp     = []\n",
    "for i_idx in range(n_select+1): # for all samples\n",
    "    n_remain = len(idxs_remain)\n",
    "    if i_idx == 0: # for the first sample\n",
    "        idx_selected = np.random.permutation(n_total)[0] # first sample random\n",
    "        q            = 1.0\n",
    "        det_K_prev   = q\n",
    "        K_inv_prev   = 1/q*np.ones(shape=(1,1))\n",
    "    else:\n",
    "        xs_selected  = xs_total[idxs_selected,:] # currently selected inputs\n",
    "        # Buffers\n",
    "        dets_remain  = np.zeros(shape=n_remain)\n",
    "        det_K_prev_list,K_inv_prev_list = [],[]\n",
    "        for r_idx in np.random.permutation(n_remain)[:min(n_remain,tik_upperbound)]:\n",
    "            # Compute the determinant of the appended kernel matrix \n",
    "            k_vec     = kernel_se(\n",
    "                X1  = xs_selected,\n",
    "                X2  = xs_total[idxs_remain[r_idx],:].reshape(1,-1),\n",
    "                hyp = hyp)\n",
    "            q         = 1.0\n",
    "            det_check = det_inc(\n",
    "                det_A = det_K_prev,\n",
    "                inv_A = K_inv_prev,\n",
    "                b     = k_vec,\n",
    "                c     = q)\n",
    "            # Append the determinant\n",
    "            dets_remain[r_idx] = det_check\n",
    "        # Get the index with the highest determinant\n",
    "        idx_temp     = np.where(dets_remain == np.amax(dets_remain))[0][0]\n",
    "        idx_selected = idxs_remain[idx_temp]\n",
    "        # Compute 'det_K_prev' and 'K_inv_prev'\n",
    "        det_K_prev = dets_remain[idx_temp]\n",
    "        k_vec      = kernel_se(\n",
    "            xs_selected,\n",
    "            xs_total[idx_selected,:].reshape(1,-1),\n",
    "            hyp=hyp)\n",
    "        q          = 1\n",
    "        K_inv_prev = inv_inc(\n",
    "            inv_A = K_inv_prev,\n",
    "            b     = k_vec,\n",
    "            c     = q)\n",
    "    # Remove currently selected index from 'idxs_remain'\n",
    "    idxs_remain = idxs_remain[idxs_remain != idx_selected]\n",
    "    # Append currently selected index to 'idxs_select'\n",
    "    idxs_selected.append(idx_selected)\n",
    "    # Check time\n",
    "    toc = (datetime.now()-tic).total_seconds() # toc\n",
    "    tocs_tikdpp.append(toc)\n",
    "    if (i_idx%(n_select//5)) == 0:\n",
    "        n_selected = len(idxs_selected)\n",
    "        print (\" tik-DPP [%d/%d] n_selected:[%d] n_remain:[%d] [%.3f]sec\"%\n",
    "               (i_idx,n_select,n_selected,n_remain,toc))\n",
    "# Select the subset from 'xs_total' with removing the first sample\n",
    "idxs_selected = idxs_selected[1:] # excluding the first one\n",
    "idxs_selected = np.array(idxs_selected)\n",
    "xs_tikdpp     = xs_total[idxs_selected2]\n",
    "print (\"Done.\")"
   ]
  },
  {
   "cell_type": "markdown",
   "id": "30ab9382",
   "metadata": {},
   "source": [
    "### 4. Random samples"
   ]
  },
  {
   "cell_type": "code",
   "execution_count": null,
   "id": "813134e1",
   "metadata": {},
   "outputs": [],
   "source": [
    "idxs_random   = np.random.permutation(n_total)[:n_select]\n",
    "xs_random     = xs_total[idxs_random]\n",
    "print (\"Done.\")"
   ]
  },
  {
   "cell_type": "markdown",
   "id": "65c44e9b",
   "metadata": {},
   "source": [
    "### Plot elapsed time of k-DPP, ik-DPP, and tik-DPP"
   ]
  },
  {
   "cell_type": "code",
   "execution_count": null,
   "id": "ac9627be",
   "metadata": {
    "scrolled": false
   },
   "outputs": [],
   "source": [
    "plt.figure(figsize=(8,5))\n",
    "plt.plot(tocs_kdpp[1:],'-',color='r',label='k-DPP')\n",
    "plt.plot(tocs_ikdpp[1:],'-',color='b',label='ik-DPP')\n",
    "plt.plot(tocs_tikdpp[1:],'-',color='c',label='tik-DPP')\n",
    "plt.xlim([0,len(tocs_kdpp)-1]); plt.yscale('log')\n",
    "plt.grid(color='k',ls='-')\n",
    "plt.xlabel('Number of Samples',fontsize=15)\n",
    "plt.ylabel('Time [s]',fontsize=15)\n",
    "plt.legend(fontsize=13,loc='upper left')\n",
    "plt.show()\n",
    "\n",
    "# Plot the DPP results for check\n",
    "plt.figure(figsize=(8,8))\n",
    "plt.plot(xs_total[:,0],xs_total[:,1],'.',color='k',lw=0.1,\n",
    "         markeredgewidth=1/2,ms=1/2)\n",
    "plt.plot(xs_kdpp[:,0],xs_kdpp[:,1],\n",
    "         'o',ms=9,mfc='None',mec='r',markeredgewidth=2,\n",
    "         label='k-DPP')\n",
    "plt.plot(xs_ikdpp[:,0],xs_ikdpp[:,1],\n",
    "         '^',ms=9,mfc='None',mec='b',markeredgewidth=2,\n",
    "         label='ik-DPP')\n",
    "plt.plot(xs_tikdpp[:,0],xs_tikdpp[:,1],\n",
    "         'v',ms=9,mfc='None',mec='c',markeredgewidth=2,\n",
    "         label='tik-DPP')\n",
    "plt.plot(xs_random[:,0],xs_random[:,1],\n",
    "         'x',ms=9,mfc='None',mec='k',markeredgewidth=1.5,\n",
    "         label='Random')\n",
    "plt.legend(fontsize=13,loc='upper left')\n",
    "plt.title(\"Original and Incremental k-DPP\",fontsize=15)\n",
    "plt.show()"
   ]
  },
  {
   "cell_type": "code",
   "execution_count": null,
   "id": "5fdc387b",
   "metadata": {},
   "outputs": [],
   "source": [
    " "
   ]
  }
 ],
 "metadata": {
  "kernelspec": {
   "display_name": "Python 3 (ipykernel)",
   "language": "python",
   "name": "python3"
  },
  "language_info": {
   "codemirror_mode": {
    "name": "ipython",
    "version": 3
   },
   "file_extension": ".py",
   "mimetype": "text/x-python",
   "name": "python",
   "nbconvert_exporter": "python",
   "pygments_lexer": "ipython3",
   "version": "3.8.13"
  }
 },
 "nbformat": 4,
 "nbformat_minor": 5
}
